{
 "cells": [
  {
   "cell_type": "markdown",
   "id": "1b44daa6",
   "metadata": {},
   "source": [
    "## Step 1. Import Modules"
   ]
  },
  {
   "cell_type": "code",
   "execution_count": 27,
   "id": "819d91b3",
   "metadata": {},
   "outputs": [],
   "source": [
    "import pandas as pd\n",
    "import json\n",
    "import csv\n",
    "import os\n",
    "from pathlib import Path\n",
    "import pathlib\n",
    "import shutil"
   ]
  },
  {
   "cell_type": "code",
   "execution_count": null,
   "id": "156bdc8b",
   "metadata": {},
   "outputs": [
    {
     "name": "stdout",
     "output_type": "stream",
     "text": [
      "gmgs2280gkb: Cuba_MigrationCensusMunicipios_2012\n",
      "gmgs5tb2rzn: Cuba_MigrationCensusProvincias_2012\n",
      "gmgs9kd52bb: Cuba_HousingCensusMunicipios_2012\n",
      "gmgscfxpq18: Cuba_Census_2012\n",
      "gmgsf7m0dtw: Cuba_HousingCensusProvincias_2012\n",
      "gmgsk0p2q5j: Cuba_EconomicCensusMunicipios_2012\n",
      "gmgsn02v8sj: Cuba_Census_2012_Collection\n",
      "gmgsprr50jb: Cuba_EconomicCensusProvincias_2012\n",
      "gmgssj3v0m7: Cuba_SocialCensusMunicipios_2012\n",
      "gmgstht78x1: Cuba_DemographicCensusMunicipios_2012\n",
      "gmgsx95x90f: Cuba_SocialCensusProvincias_2012\n",
      "gmgsz8w9k97: Cuba_DemographicCensusProvincias_2012\n"
     ]
    }
   ],
   "source": [
    "csv_file_path = 'Cuba-Census-csv.csv'  # the name of your CSV\n",
    "\n",
    "# Load the CSV data\n",
    "csv_data = pd.read_csv(csv_file_path)\n",
    "\n",
    "common_files_dir = Path('./common/')\n",
    "\n",
    "# List to store pairs of (idpart, alttitlepart)\n",
    "idpart_alttitle_list = []\n",
    "\n",
    "for index, row in csv_data.iterrows():\n",
    "    idpart = row['ID'].split('-')[-1]\n",
    "    alttitlepart = row['AltTitle']\n",
    "    if row['Index Year'] == 2002:\n",
    "        continue \n",
    "    newdirpath = Path(f'./output/{idpart}/')\n",
    "    newdirpath.mkdir(parents=True, exist_ok=True)\n",
    "\n",
    "    containerpath = newdirpath / alttitlepart\n",
    "    containerpath.mkdir(parents=True, exist_ok=True)\n",
    "\n",
    "    for file in common_files_dir.iterdir():  # Iterate through files in common directory\n",
    "        if file.is_file():  # Ensure it's a file\n",
    "            shutil.copy(file, containerpath / file.name)  # Copy file to containerpath\n",
    "\n",
    "    # Append the pair to the list\n",
    "    idpart_alttitle_list.append((idpart, alttitlepart))\n",
    "\n",
    "# Sort the list by idpart\n",
    "idpart_alttitle_list.sort(key=lambda x: x[0])\n",
    "\n",
    "# Optional: Display or save the sorted list\n",
    "for idpart, alttitlepart in idpart_alttitle_list:\n",
    "    print(f'{idpart}: {alttitlepart}')"
   ]
  },
  {
   "cell_type": "code",
   "execution_count": null,
   "id": "567ffd59",
   "metadata": {},
   "outputs": [],
   "source": []
  }
 ],
 "metadata": {
  "kernelspec": {
   "display_name": ".venv",
   "language": "python",
   "name": "python3"
  },
  "language_info": {
   "codemirror_mode": {
    "name": "ipython",
    "version": 3
   },
   "file_extension": ".py",
   "mimetype": "text/x-python",
   "name": "python",
   "nbconvert_exporter": "python",
   "pygments_lexer": "ipython3",
   "version": "3.11.4"
  }
 },
 "nbformat": 4,
 "nbformat_minor": 5
}
